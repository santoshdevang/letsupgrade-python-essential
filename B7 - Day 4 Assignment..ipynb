{
 "cells": [
  {
   "cell_type": "code",
   "execution_count": 1,
   "metadata": {},
   "outputs": [
    {
     "name": "stdout",
     "output_type": "stream",
     "text": [
      "1296  is a armstrong number.\n"
     ]
    }
   ],
   "source": [
    "for i in range(1042, 702648265):\n",
    "    num = i\n",
    "    sum = 0\n",
    "    n = len(str(i))\n",
    "    while i != 0:\n",
    "        i = i % 10\n",
    "        sum += i ** n\n",
    "        i = i // 10\n",
    "    if sum == num:\n",
    "        print(num, ' is a armstrong number.')\n",
    "        break\n"
   ]
  }
 ],
 "metadata": {
  "kernelspec": {
   "display_name": "Python 3",
   "language": "python",
   "name": "python3"
  },
  "language_info": {
   "codemirror_mode": {
    "name": "ipython",
    "version": 3
   },
   "file_extension": ".py",
   "mimetype": "text/x-python",
   "name": "python",
   "nbconvert_exporter": "python",
   "pygments_lexer": "ipython3",
   "version": "3.8.3"
  }
 },
 "nbformat": 4,
 "nbformat_minor": 4
}
