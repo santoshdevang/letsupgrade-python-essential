{
 "cells": [
  {
   "cell_type": "code",
   "execution_count": 1,
   "metadata": {},
   "outputs": [
    {
     "name": "stdout",
     "output_type": "stream",
     "text": [
      "Welcome, Santosh your balance is  96000\n",
      "Santosh you have deposited  2000\n",
      "Santosh Now, the balance become  98000\n",
      "You withdrawed  94000\n",
      "Now, the remaining balance is  4000\n"
     ]
    }
   ],
   "source": [
    "class BankAccount():\n",
    "    def __init__(self, owner_name, balance):\n",
    "        self.name = owner_name\n",
    "        self.bal = balance\n",
    "        print('Welcome, ' + self.name + ' your balance is ', self.bal)\n",
    "\n",
    "    def deposit(self, addbalance):\n",
    "        self.abal = addbalance\n",
    "        self.bal += self.abal\n",
    "        print(self.name + ' you have deposited ', self.abal)\n",
    "        print(self.name + ' Now, the balance become ', self.bal)\n",
    "\n",
    "    def withdraw(self, money):\n",
    "        self.money = money\n",
    "        if self.money > self.bal:\n",
    "            print('You cannot withdraw money insufficient balance.')\n",
    "        else:\n",
    "            self.bal -= self.money\n",
    "            print('You withdrawed ', self.money)\n",
    "            print('Now, the remaining balance is ', self.bal)\n",
    "\n",
    "\n",
    "acc = BankAccount('Santosh', 96000)\n",
    "acc.deposit(2000)\n",
    "acc.withdraw(94000)\n"
   ]
  },
  {
   "cell_type": "code",
   "execution_count": 2,
   "metadata": {},
   "outputs": [
    {
     "name": "stdout",
     "output_type": "stream",
     "text": [
      "Volume is  12.566370614359172\n",
      "Area is  35.22071741263713\n"
     ]
    }
   ],
   "source": [
    "from math import *\n",
    "\n",
    "\n",
    "class Cone():\n",
    "    def __init__(self, radius, height):\n",
    "        self.r = radius\n",
    "        self.h = height\n",
    "\n",
    "    def volume(self):\n",
    "        print('Volume is ', pi * (self.r ** 2) * (self.h / 3))\n",
    "\n",
    "    def area(self):\n",
    "        print('Area is ', pi * self.r * (self.r + (sqrt(self.h ** 2 + self.r ** 2))))\n",
    "\n",
    "\n",
    "obj = Cone(2, 3)\n",
    "obj.volume()\n",
    "obj.area()\n"
   ]
  },
  {
   "cell_type": "code",
   "execution_count": null,
   "metadata": {},
   "outputs": [],
   "source": []
  }
 ],
 "metadata": {
  "kernelspec": {
   "display_name": "Python 3",
   "language": "python",
   "name": "python3"
  },
  "language_info": {
   "codemirror_mode": {
    "name": "ipython",
    "version": 3
   },
   "file_extension": ".py",
   "mimetype": "text/x-python",
   "name": "python",
   "nbconvert_exporter": "python",
   "pygments_lexer": "ipython3",
   "version": "3.8.3"
  }
 },
 "nbformat": 4,
 "nbformat_minor": 4
}
